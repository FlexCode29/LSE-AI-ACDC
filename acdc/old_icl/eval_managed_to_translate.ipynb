{
 "cells": [
  {
   "cell_type": "code",
   "execution_count": 81,
   "id": "ed6cfeb1",
   "metadata": {},
   "outputs": [
    {
     "name": "stdout",
     "output_type": "stream",
     "text": [
      "The autoreload extension is already loaded. To reload it, use:\n",
      "  %reload_ext autoreload\n"
     ]
    }
   ],
   "source": [
    "from collections import OrderedDict\n",
    "import re\n",
    "import os\n",
    "import sys\n",
    "\n",
    "import matplotlib.pyplot as plt\n",
    "import pandas as pd\n",
    "import seaborn as sns\n",
    "import torch\n",
    "import torch.nn as nn\n",
    "import torch.nn.functional as F\n",
    "import einops\n",
    "from fancy_einsum import einsum\n",
    "from tqdm.notebook import tqdm\n",
    "from transformer_lens.HookedTransformer import HookedTransformer, HookedTransformerConfig\n",
    "\n",
    "sys.path.append('Automatic-Circuit-Discovery/acdc/icl/src') \n",
    "from eval import get_run_metrics, read_run_dir, get_model_from_run\n",
    "from plot_utils import basic_plot, collect_results, relevant_model_names\n",
    "\n",
    "from samplers import get_data_sampler\n",
    "from tasks import get_task_sampler\n",
    "\n",
    "%matplotlib inline\n",
    "%load_ext autoreload\n",
    "%autoreload 2\n",
    "\n",
    "sns.set_theme('notebook', 'darkgrid')\n",
    "palette = sns.color_palette('colorblind')"
   ]
  },
  {
   "cell_type": "markdown",
   "id": "a749ccb3-fc9d-4c6d-bf50-7498181aa23e",
   "metadata": {},
   "source": [
    "## Load GPT-2 with the original weights"
   ]
  },
  {
   "cell_type": "code",
   "execution_count": 2,
   "id": "a9980951",
   "metadata": {},
   "outputs": [],
   "source": [
    "run_dir = \"Automatic-Circuit-Discovery/acdc/icl/models\"\n",
    "\n",
    "task = \"linear_regression\"\n",
    "\n",
    "run_id = \"pretrained\"  # if you train more models, replace with the run_id from the table above\n",
    "\n",
    "run_path = os.path.join(run_dir, task, run_id)\n",
    "recompute_metrics = False\n",
    "\n",
    "if recompute_metrics:\n",
    "    get_run_metrics(run_path)  # these are normally precomputed at the end of training"
   ]
  },
  {
   "cell_type": "code",
   "execution_count": 3,
   "id": "597b24c9-ecb7-4f8c-8dd0-0efb7a3d2f2e",
   "metadata": {},
   "outputs": [
    {
     "data": {
      "text/plain": [
       "Munch({'config': 'conf/linear_regression.yaml', 'inherit': ['base.yaml'], 'model': Munch({'family': 'gpt2', 'n_dims': 20, 'n_embd': 256, 'n_head': 8, 'n_layer': 12, 'n_positions': 101}), 'out_dir': '../models/linear_regression', 'test_run': False, 'training': Munch({'batch_size': 64, 'curriculum': Munch({'dims': Munch({'end': 20, 'inc': 1, 'interval': 2000, 'start': 5}), 'points': Munch({'end': 41, 'inc': 2, 'interval': 2000, 'start': 11})}), 'data': 'gaussian', 'keep_every_steps': 100000, 'learning_rate': 0.0001, 'num_tasks': None, 'resume_id': None, 'save_every_steps': 1000, 'task': 'linear_regression', 'task_kwargs': Munch({}), 'train_steps': 500001}), 'wandb': Munch({'entity': 'in-context', 'log_every_steps': 100, 'name': 'linear_regression_pretrained', 'notes': '', 'project': 'in-context-training'})})"
      ]
     },
     "execution_count": 3,
     "metadata": {},
     "output_type": "execute_result"
    }
   ],
   "source": [
    "model, conf = get_model_from_run(run_path)\n",
    "conf"
   ]
  },
  {
   "cell_type": "code",
   "execution_count": 4,
   "id": "b409426c-bbec-43aa-a9b0-73fe6ab6e17a",
   "metadata": {},
   "outputs": [
    {
     "data": {
      "text/plain": [
       "TransformerModel(\n",
       "  (_read_in): Linear(in_features=20, out_features=256, bias=True)\n",
       "  (_backbone): GPT2Model(\n",
       "    (wte): Embedding(50257, 256)\n",
       "    (wpe): Embedding(202, 256)\n",
       "    (drop): Dropout(p=0.0, inplace=False)\n",
       "    (h): ModuleList(\n",
       "      (0-11): 12 x GPT2Block(\n",
       "        (ln_1): LayerNorm((256,), eps=1e-05, elementwise_affine=True)\n",
       "        (attn): GPT2Attention(\n",
       "          (c_attn): Conv1D()\n",
       "          (c_proj): Conv1D()\n",
       "          (attn_dropout): Dropout(p=0.0, inplace=False)\n",
       "          (resid_dropout): Dropout(p=0.0, inplace=False)\n",
       "        )\n",
       "        (ln_2): LayerNorm((256,), eps=1e-05, elementwise_affine=True)\n",
       "        (mlp): GPT2MLP(\n",
       "          (c_fc): Conv1D()\n",
       "          (c_proj): Conv1D()\n",
       "          (act): NewGELUActivation()\n",
       "          (dropout): Dropout(p=0.0, inplace=False)\n",
       "        )\n",
       "      )\n",
       "    )\n",
       "    (ln_f): LayerNorm((256,), eps=1e-05, elementwise_affine=True)\n",
       "  )\n",
       "  (_read_out): Linear(in_features=256, out_features=1, bias=True)\n",
       ")"
      ]
     },
     "execution_count": 4,
     "metadata": {},
     "output_type": "execute_result"
    }
   ],
   "source": [
    "model"
   ]
  },
  {
   "cell_type": "markdown",
   "id": "d248bf01-4463-46ea-a8a5-c425e2d063a6",
   "metadata": {},
   "source": [
    "## Convert original parameters to Hooked Transformer state dict format"
   ]
  },
  {
   "cell_type": "code",
   "execution_count": 5,
   "id": "254f4b78-d4f2-4e30-80bd-a1ba171c1cfb",
   "metadata": {},
   "outputs": [],
   "source": [
    "def convert_gpt2_weights(gpt2, cfg: HookedTransformerConfig):\n",
    "    state_dict = {}\n",
    "\n",
    "    state_dict[\"embed.W_E\"] = gpt2._backbone.wte.weight\n",
    "    state_dict[\"pos_embed.W_pos\"] = gpt2._backbone.wpe.weight\n",
    "\n",
    "    for l in range(cfg.n_layers):\n",
    "        state_dict[f\"blocks.{l}.ln1.w\"] = gpt2._backbone.h[l].ln_1.weight\n",
    "        state_dict[f\"blocks.{l}.ln1.b\"] = gpt2._backbone.h[l].ln_1.bias\n",
    "        \n",
    "        # In GPT-2, q,k,v are produced by one big linear map, whose output is\n",
    "        # concat([q, k, v])\n",
    "        W = gpt2._backbone.h[l].attn.c_attn.weight\n",
    "        W_Q, W_K, W_V = torch.tensor_split(W, 3, dim=1)\n",
    "        W_Q = einops.rearrange(W_Q, \"m (i h)->i m h\", i=cfg.n_heads)\n",
    "        W_K = einops.rearrange(W_K, \"m (i h)->i m h\", i=cfg.n_heads)\n",
    "        W_V = einops.rearrange(W_V, \"m (i h)->i m h\", i=cfg.n_heads)\n",
    "\n",
    "        state_dict[f\"blocks.{l}.attn.W_Q\"] = W_Q\n",
    "        state_dict[f\"blocks.{l}.attn.W_K\"] = W_K\n",
    "        state_dict[f\"blocks.{l}.attn.W_V\"] = W_V\n",
    "\n",
    "        qkv_bias = gpt2._backbone.h[l].attn.c_attn.bias\n",
    "        qkv_bias = einops.rearrange(\n",
    "            qkv_bias,\n",
    "            \"(qkv index head)->qkv index head\",\n",
    "            qkv=3,\n",
    "            index=cfg.n_heads,\n",
    "            head=cfg.d_head,\n",
    "        )\n",
    "        state_dict[f\"blocks.{l}.attn.b_Q\"] = qkv_bias[0]\n",
    "        state_dict[f\"blocks.{l}.attn.b_K\"] = qkv_bias[1]\n",
    "        state_dict[f\"blocks.{l}.attn.b_V\"] = qkv_bias[2]\n",
    "\n",
    "        W_O = gpt2._backbone.h[l].attn.c_proj.weight\n",
    "        W_O = einops.rearrange(W_O, \"(i h) m->i h m\", i=cfg.n_heads)\n",
    "        state_dict[f\"blocks.{l}.attn.W_O\"] = W_O\n",
    "        state_dict[f\"blocks.{l}.attn.b_O\"] = gpt2._backbone.h[l].attn.c_proj.bias\n",
    "\n",
    "        \n",
    "        state_dict[f\"blocks.{l}.ln2.w\"] = gpt2._backbone.h[l].ln_2.weight\n",
    "        state_dict[f\"blocks.{l}.ln2.b\"] = gpt2._backbone.h[l].ln_2.bias\n",
    "        \n",
    "        W_in = gpt2._backbone.h[l].mlp.c_fc.weight\n",
    "        state_dict[f\"blocks.{l}.mlp.W_in\"] = W_in\n",
    "        state_dict[f\"blocks.{l}.mlp.b_in\"] = gpt2._backbone.h[l].mlp.c_fc.bias\n",
    "        \n",
    "        W_out = gpt2._backbone.h[l].mlp.c_proj.weight\n",
    "        state_dict[f\"blocks.{l}.mlp.W_out\"] = W_out\n",
    "        state_dict[f\"blocks.{l}.mlp.b_out\"] = gpt2._backbone.h[l].mlp.c_proj.bias\n",
    "\n",
    "\n",
    "    state_dict[\"ln_final.w\"] = gpt2._backbone.ln_f.weight\n",
    "    state_dict[\"ln_final.b\"] = gpt2._backbone.ln_f.bias\n",
    "\n",
    "    \n",
    "    return state_dict"
   ]
  },
  {
   "cell_type": "code",
   "execution_count": 6,
   "id": "97e427ad-5fb2-467d-bb63-4ee0d8d16832",
   "metadata": {},
   "outputs": [],
   "source": [
    "toy_config = HookedTransformerConfig(\n",
    "        d_model = conf.model.n_embd,\n",
    "        d_head = 32,\n",
    "        d_vocab = 50257,\n",
    "        n_layers = conf.model.n_layer,\n",
    "        n_heads = conf.model.n_head,\n",
    "        n_ctx = 2 * conf.model.n_positions,\n",
    "        act_fn = 'gelu_new',\n",
    "        init_weights = False\n",
    "    )\n",
    "\n",
    "converted_state_dict = convert_gpt2_weights(model, toy_config)"
   ]
  },
  {
   "cell_type": "code",
   "execution_count": 7,
   "id": "48d354a1-8d30-4895-bb17-c29f5c5679eb",
   "metadata": {},
   "outputs": [
    {
     "name": "stdout",
     "output_type": "stream",
     "text": [
      "embed.W_E\n",
      "pos_embed.W_pos\n",
      "blocks.0.ln1.w\n",
      "blocks.0.ln1.b\n",
      "blocks.0.attn.W_Q\n",
      "blocks.0.attn.W_K\n",
      "blocks.0.attn.W_V\n",
      "blocks.0.attn.b_Q\n",
      "blocks.0.attn.b_K\n",
      "blocks.0.attn.b_V\n",
      "blocks.0.attn.W_O\n",
      "blocks.0.attn.b_O\n",
      "blocks.0.ln2.w\n",
      "blocks.0.ln2.b\n",
      "blocks.0.mlp.W_in\n",
      "blocks.0.mlp.b_in\n",
      "blocks.0.mlp.W_out\n",
      "blocks.0.mlp.b_out\n",
      "blocks.1.ln1.w\n",
      "blocks.1.ln1.b\n",
      "blocks.1.attn.W_Q\n",
      "blocks.1.attn.W_K\n",
      "blocks.1.attn.W_V\n",
      "blocks.1.attn.b_Q\n",
      "blocks.1.attn.b_K\n",
      "blocks.1.attn.b_V\n",
      "blocks.1.attn.W_O\n",
      "blocks.1.attn.b_O\n",
      "blocks.1.ln2.w\n",
      "blocks.1.ln2.b\n",
      "blocks.1.mlp.W_in\n",
      "blocks.1.mlp.b_in\n",
      "blocks.1.mlp.W_out\n",
      "blocks.1.mlp.b_out\n",
      "blocks.2.ln1.w\n",
      "blocks.2.ln1.b\n",
      "blocks.2.attn.W_Q\n",
      "blocks.2.attn.W_K\n",
      "blocks.2.attn.W_V\n",
      "blocks.2.attn.b_Q\n",
      "blocks.2.attn.b_K\n",
      "blocks.2.attn.b_V\n",
      "blocks.2.attn.W_O\n",
      "blocks.2.attn.b_O\n",
      "blocks.2.ln2.w\n",
      "blocks.2.ln2.b\n",
      "blocks.2.mlp.W_in\n",
      "blocks.2.mlp.b_in\n",
      "blocks.2.mlp.W_out\n",
      "blocks.2.mlp.b_out\n",
      "blocks.3.ln1.w\n",
      "blocks.3.ln1.b\n",
      "blocks.3.attn.W_Q\n",
      "blocks.3.attn.W_K\n",
      "blocks.3.attn.W_V\n",
      "blocks.3.attn.b_Q\n",
      "blocks.3.attn.b_K\n",
      "blocks.3.attn.b_V\n",
      "blocks.3.attn.W_O\n",
      "blocks.3.attn.b_O\n",
      "blocks.3.ln2.w\n",
      "blocks.3.ln2.b\n",
      "blocks.3.mlp.W_in\n",
      "blocks.3.mlp.b_in\n",
      "blocks.3.mlp.W_out\n",
      "blocks.3.mlp.b_out\n",
      "blocks.4.ln1.w\n",
      "blocks.4.ln1.b\n",
      "blocks.4.attn.W_Q\n",
      "blocks.4.attn.W_K\n",
      "blocks.4.attn.W_V\n",
      "blocks.4.attn.b_Q\n",
      "blocks.4.attn.b_K\n",
      "blocks.4.attn.b_V\n",
      "blocks.4.attn.W_O\n",
      "blocks.4.attn.b_O\n",
      "blocks.4.ln2.w\n",
      "blocks.4.ln2.b\n",
      "blocks.4.mlp.W_in\n",
      "blocks.4.mlp.b_in\n",
      "blocks.4.mlp.W_out\n",
      "blocks.4.mlp.b_out\n",
      "blocks.5.ln1.w\n",
      "blocks.5.ln1.b\n",
      "blocks.5.attn.W_Q\n",
      "blocks.5.attn.W_K\n",
      "blocks.5.attn.W_V\n",
      "blocks.5.attn.b_Q\n",
      "blocks.5.attn.b_K\n",
      "blocks.5.attn.b_V\n",
      "blocks.5.attn.W_O\n",
      "blocks.5.attn.b_O\n",
      "blocks.5.ln2.w\n",
      "blocks.5.ln2.b\n",
      "blocks.5.mlp.W_in\n",
      "blocks.5.mlp.b_in\n",
      "blocks.5.mlp.W_out\n",
      "blocks.5.mlp.b_out\n",
      "blocks.6.ln1.w\n",
      "blocks.6.ln1.b\n",
      "blocks.6.attn.W_Q\n",
      "blocks.6.attn.W_K\n",
      "blocks.6.attn.W_V\n",
      "blocks.6.attn.b_Q\n",
      "blocks.6.attn.b_K\n",
      "blocks.6.attn.b_V\n",
      "blocks.6.attn.W_O\n",
      "blocks.6.attn.b_O\n",
      "blocks.6.ln2.w\n",
      "blocks.6.ln2.b\n",
      "blocks.6.mlp.W_in\n",
      "blocks.6.mlp.b_in\n",
      "blocks.6.mlp.W_out\n",
      "blocks.6.mlp.b_out\n",
      "blocks.7.ln1.w\n",
      "blocks.7.ln1.b\n",
      "blocks.7.attn.W_Q\n",
      "blocks.7.attn.W_K\n",
      "blocks.7.attn.W_V\n",
      "blocks.7.attn.b_Q\n",
      "blocks.7.attn.b_K\n",
      "blocks.7.attn.b_V\n",
      "blocks.7.attn.W_O\n",
      "blocks.7.attn.b_O\n",
      "blocks.7.ln2.w\n",
      "blocks.7.ln2.b\n",
      "blocks.7.mlp.W_in\n",
      "blocks.7.mlp.b_in\n",
      "blocks.7.mlp.W_out\n",
      "blocks.7.mlp.b_out\n",
      "blocks.8.ln1.w\n",
      "blocks.8.ln1.b\n",
      "blocks.8.attn.W_Q\n",
      "blocks.8.attn.W_K\n",
      "blocks.8.attn.W_V\n",
      "blocks.8.attn.b_Q\n",
      "blocks.8.attn.b_K\n",
      "blocks.8.attn.b_V\n",
      "blocks.8.attn.W_O\n",
      "blocks.8.attn.b_O\n",
      "blocks.8.ln2.w\n",
      "blocks.8.ln2.b\n",
      "blocks.8.mlp.W_in\n",
      "blocks.8.mlp.b_in\n",
      "blocks.8.mlp.W_out\n",
      "blocks.8.mlp.b_out\n",
      "blocks.9.ln1.w\n",
      "blocks.9.ln1.b\n",
      "blocks.9.attn.W_Q\n",
      "blocks.9.attn.W_K\n",
      "blocks.9.attn.W_V\n",
      "blocks.9.attn.b_Q\n",
      "blocks.9.attn.b_K\n",
      "blocks.9.attn.b_V\n",
      "blocks.9.attn.W_O\n",
      "blocks.9.attn.b_O\n",
      "blocks.9.ln2.w\n",
      "blocks.9.ln2.b\n",
      "blocks.9.mlp.W_in\n",
      "blocks.9.mlp.b_in\n",
      "blocks.9.mlp.W_out\n",
      "blocks.9.mlp.b_out\n",
      "blocks.10.ln1.w\n",
      "blocks.10.ln1.b\n",
      "blocks.10.attn.W_Q\n",
      "blocks.10.attn.W_K\n",
      "blocks.10.attn.W_V\n",
      "blocks.10.attn.b_Q\n",
      "blocks.10.attn.b_K\n",
      "blocks.10.attn.b_V\n",
      "blocks.10.attn.W_O\n",
      "blocks.10.attn.b_O\n",
      "blocks.10.ln2.w\n",
      "blocks.10.ln2.b\n",
      "blocks.10.mlp.W_in\n",
      "blocks.10.mlp.b_in\n",
      "blocks.10.mlp.W_out\n",
      "blocks.10.mlp.b_out\n",
      "blocks.11.ln1.w\n",
      "blocks.11.ln1.b\n",
      "blocks.11.attn.W_Q\n",
      "blocks.11.attn.W_K\n",
      "blocks.11.attn.W_V\n",
      "blocks.11.attn.b_Q\n",
      "blocks.11.attn.b_K\n",
      "blocks.11.attn.b_V\n",
      "blocks.11.attn.W_O\n",
      "blocks.11.attn.b_O\n",
      "blocks.11.ln2.w\n",
      "blocks.11.ln2.b\n",
      "blocks.11.mlp.W_in\n",
      "blocks.11.mlp.b_in\n",
      "blocks.11.mlp.W_out\n",
      "blocks.11.mlp.b_out\n",
      "ln_final.w\n",
      "ln_final.b\n"
     ]
    }
   ],
   "source": [
    "for key in converted_state_dict:\n",
    "    print(key)"
   ]
  },
  {
   "cell_type": "markdown",
   "id": "2f9ef7b1-0113-4b4c-bb1c-2276fc1abbba",
   "metadata": {},
   "source": [
    "### Load a HookedTransformer with the config of the original params"
   ]
  },
  {
   "cell_type": "code",
   "execution_count": 8,
   "id": "4eb0a471-8849-4601-b9da-d8081a4dcfee",
   "metadata": {},
   "outputs": [
    {
     "data": {
      "text/plain": [
       "HookedTransformer(\n",
       "  (embed): Embed()\n",
       "  (hook_embed): HookPoint()\n",
       "  (pos_embed): PosEmbed()\n",
       "  (hook_pos_embed): HookPoint()\n",
       "  (blocks): ModuleList(\n",
       "    (0-11): 12 x TransformerBlock(\n",
       "      (ln1): LayerNorm(\n",
       "        (hook_scale): HookPoint()\n",
       "        (hook_normalized): HookPoint()\n",
       "      )\n",
       "      (ln2): LayerNorm(\n",
       "        (hook_scale): HookPoint()\n",
       "        (hook_normalized): HookPoint()\n",
       "      )\n",
       "      (attn): Attention(\n",
       "        (hook_k): HookPoint()\n",
       "        (hook_q): HookPoint()\n",
       "        (hook_v): HookPoint()\n",
       "        (hook_z): HookPoint()\n",
       "        (hook_attn_scores): HookPoint()\n",
       "        (hook_pattern): HookPoint()\n",
       "        (hook_result): HookPoint()\n",
       "      )\n",
       "      (mlp): MLP(\n",
       "        (hook_pre): HookPoint()\n",
       "        (hook_post): HookPoint()\n",
       "      )\n",
       "      (hook_attn_in): HookPoint()\n",
       "      (hook_q_input): HookPoint()\n",
       "      (hook_k_input): HookPoint()\n",
       "      (hook_v_input): HookPoint()\n",
       "      (hook_mlp_in): HookPoint()\n",
       "      (hook_attn_out): HookPoint()\n",
       "      (hook_mlp_out): HookPoint()\n",
       "      (hook_resid_pre): HookPoint()\n",
       "      (hook_resid_mid): HookPoint()\n",
       "      (hook_resid_post): HookPoint()\n",
       "    )\n",
       "  )\n",
       "  (ln_final): LayerNorm(\n",
       "    (hook_scale): HookPoint()\n",
       "    (hook_normalized): HookPoint()\n",
       "  )\n",
       "  (unembed): Unembed()\n",
       ")"
      ]
     },
     "execution_count": 8,
     "metadata": {},
     "output_type": "execute_result"
    }
   ],
   "source": [
    "toy_model = HookedTransformer(cfg=toy_config)\n",
    "toy_model"
   ]
  },
  {
   "cell_type": "markdown",
   "id": "92c1842d-ad52-4799-aec4-93b50a28ddd4",
   "metadata": {},
   "source": [
    "## Load state dict in EasyTransformer for custom Unembed"
   ]
  },
  {
   "cell_type": "markdown",
   "id": "d92a4549-eebc-428c-89c7-7480948602d6",
   "metadata": {},
   "source": [
    "### Load the original model"
   ]
  },
  {
   "cell_type": "code",
   "execution_count": 9,
   "id": "827bd5cc-dbbc-4584-8bc2-079f023b92f4",
   "metadata": {},
   "outputs": [
    {
     "name": "stdout",
     "output_type": "stream",
     "text": [
      "_read_in.weight\n",
      "_read_in.bias\n",
      "_backbone.wte.weight\n",
      "_backbone.wpe.weight\n",
      "_backbone.h.0.ln_1.weight\n",
      "_backbone.h.0.ln_1.bias\n",
      "_backbone.h.0.attn.bias\n",
      "_backbone.h.0.attn.masked_bias\n",
      "_backbone.h.0.attn.c_attn.weight\n",
      "_backbone.h.0.attn.c_attn.bias\n",
      "_backbone.h.0.attn.c_proj.weight\n",
      "_backbone.h.0.attn.c_proj.bias\n",
      "_backbone.h.0.ln_2.weight\n",
      "_backbone.h.0.ln_2.bias\n",
      "_backbone.h.0.mlp.c_fc.weight\n",
      "_backbone.h.0.mlp.c_fc.bias\n",
      "_backbone.h.0.mlp.c_proj.weight\n",
      "_backbone.h.0.mlp.c_proj.bias\n",
      "_backbone.h.1.ln_1.weight\n",
      "_backbone.h.1.ln_1.bias\n",
      "_backbone.h.1.attn.bias\n",
      "_backbone.h.1.attn.masked_bias\n",
      "_backbone.h.1.attn.c_attn.weight\n",
      "_backbone.h.1.attn.c_attn.bias\n",
      "_backbone.h.1.attn.c_proj.weight\n",
      "_backbone.h.1.attn.c_proj.bias\n",
      "_backbone.h.1.ln_2.weight\n",
      "_backbone.h.1.ln_2.bias\n",
      "_backbone.h.1.mlp.c_fc.weight\n",
      "_backbone.h.1.mlp.c_fc.bias\n",
      "_backbone.h.1.mlp.c_proj.weight\n",
      "_backbone.h.1.mlp.c_proj.bias\n",
      "_backbone.h.2.ln_1.weight\n",
      "_backbone.h.2.ln_1.bias\n",
      "_backbone.h.2.attn.bias\n",
      "_backbone.h.2.attn.masked_bias\n",
      "_backbone.h.2.attn.c_attn.weight\n",
      "_backbone.h.2.attn.c_attn.bias\n",
      "_backbone.h.2.attn.c_proj.weight\n",
      "_backbone.h.2.attn.c_proj.bias\n",
      "_backbone.h.2.ln_2.weight\n",
      "_backbone.h.2.ln_2.bias\n",
      "_backbone.h.2.mlp.c_fc.weight\n",
      "_backbone.h.2.mlp.c_fc.bias\n",
      "_backbone.h.2.mlp.c_proj.weight\n",
      "_backbone.h.2.mlp.c_proj.bias\n",
      "_backbone.h.3.ln_1.weight\n",
      "_backbone.h.3.ln_1.bias\n",
      "_backbone.h.3.attn.bias\n",
      "_backbone.h.3.attn.masked_bias\n",
      "_backbone.h.3.attn.c_attn.weight\n",
      "_backbone.h.3.attn.c_attn.bias\n",
      "_backbone.h.3.attn.c_proj.weight\n",
      "_backbone.h.3.attn.c_proj.bias\n",
      "_backbone.h.3.ln_2.weight\n",
      "_backbone.h.3.ln_2.bias\n",
      "_backbone.h.3.mlp.c_fc.weight\n",
      "_backbone.h.3.mlp.c_fc.bias\n",
      "_backbone.h.3.mlp.c_proj.weight\n",
      "_backbone.h.3.mlp.c_proj.bias\n",
      "_backbone.h.4.ln_1.weight\n",
      "_backbone.h.4.ln_1.bias\n",
      "_backbone.h.4.attn.bias\n",
      "_backbone.h.4.attn.masked_bias\n",
      "_backbone.h.4.attn.c_attn.weight\n",
      "_backbone.h.4.attn.c_attn.bias\n",
      "_backbone.h.4.attn.c_proj.weight\n",
      "_backbone.h.4.attn.c_proj.bias\n",
      "_backbone.h.4.ln_2.weight\n",
      "_backbone.h.4.ln_2.bias\n",
      "_backbone.h.4.mlp.c_fc.weight\n",
      "_backbone.h.4.mlp.c_fc.bias\n",
      "_backbone.h.4.mlp.c_proj.weight\n",
      "_backbone.h.4.mlp.c_proj.bias\n",
      "_backbone.h.5.ln_1.weight\n",
      "_backbone.h.5.ln_1.bias\n",
      "_backbone.h.5.attn.bias\n",
      "_backbone.h.5.attn.masked_bias\n",
      "_backbone.h.5.attn.c_attn.weight\n",
      "_backbone.h.5.attn.c_attn.bias\n",
      "_backbone.h.5.attn.c_proj.weight\n",
      "_backbone.h.5.attn.c_proj.bias\n",
      "_backbone.h.5.ln_2.weight\n",
      "_backbone.h.5.ln_2.bias\n",
      "_backbone.h.5.mlp.c_fc.weight\n",
      "_backbone.h.5.mlp.c_fc.bias\n",
      "_backbone.h.5.mlp.c_proj.weight\n",
      "_backbone.h.5.mlp.c_proj.bias\n",
      "_backbone.h.6.ln_1.weight\n",
      "_backbone.h.6.ln_1.bias\n",
      "_backbone.h.6.attn.bias\n",
      "_backbone.h.6.attn.masked_bias\n",
      "_backbone.h.6.attn.c_attn.weight\n",
      "_backbone.h.6.attn.c_attn.bias\n",
      "_backbone.h.6.attn.c_proj.weight\n",
      "_backbone.h.6.attn.c_proj.bias\n",
      "_backbone.h.6.ln_2.weight\n",
      "_backbone.h.6.ln_2.bias\n",
      "_backbone.h.6.mlp.c_fc.weight\n",
      "_backbone.h.6.mlp.c_fc.bias\n",
      "_backbone.h.6.mlp.c_proj.weight\n",
      "_backbone.h.6.mlp.c_proj.bias\n",
      "_backbone.h.7.ln_1.weight\n",
      "_backbone.h.7.ln_1.bias\n",
      "_backbone.h.7.attn.bias\n",
      "_backbone.h.7.attn.masked_bias\n",
      "_backbone.h.7.attn.c_attn.weight\n",
      "_backbone.h.7.attn.c_attn.bias\n",
      "_backbone.h.7.attn.c_proj.weight\n",
      "_backbone.h.7.attn.c_proj.bias\n",
      "_backbone.h.7.ln_2.weight\n",
      "_backbone.h.7.ln_2.bias\n",
      "_backbone.h.7.mlp.c_fc.weight\n",
      "_backbone.h.7.mlp.c_fc.bias\n",
      "_backbone.h.7.mlp.c_proj.weight\n",
      "_backbone.h.7.mlp.c_proj.bias\n",
      "_backbone.h.8.ln_1.weight\n",
      "_backbone.h.8.ln_1.bias\n",
      "_backbone.h.8.attn.bias\n",
      "_backbone.h.8.attn.masked_bias\n",
      "_backbone.h.8.attn.c_attn.weight\n",
      "_backbone.h.8.attn.c_attn.bias\n",
      "_backbone.h.8.attn.c_proj.weight\n",
      "_backbone.h.8.attn.c_proj.bias\n",
      "_backbone.h.8.ln_2.weight\n",
      "_backbone.h.8.ln_2.bias\n",
      "_backbone.h.8.mlp.c_fc.weight\n",
      "_backbone.h.8.mlp.c_fc.bias\n",
      "_backbone.h.8.mlp.c_proj.weight\n",
      "_backbone.h.8.mlp.c_proj.bias\n",
      "_backbone.h.9.ln_1.weight\n",
      "_backbone.h.9.ln_1.bias\n",
      "_backbone.h.9.attn.bias\n",
      "_backbone.h.9.attn.masked_bias\n",
      "_backbone.h.9.attn.c_attn.weight\n",
      "_backbone.h.9.attn.c_attn.bias\n",
      "_backbone.h.9.attn.c_proj.weight\n",
      "_backbone.h.9.attn.c_proj.bias\n",
      "_backbone.h.9.ln_2.weight\n",
      "_backbone.h.9.ln_2.bias\n",
      "_backbone.h.9.mlp.c_fc.weight\n",
      "_backbone.h.9.mlp.c_fc.bias\n",
      "_backbone.h.9.mlp.c_proj.weight\n",
      "_backbone.h.9.mlp.c_proj.bias\n",
      "_backbone.h.10.ln_1.weight\n",
      "_backbone.h.10.ln_1.bias\n",
      "_backbone.h.10.attn.bias\n",
      "_backbone.h.10.attn.masked_bias\n",
      "_backbone.h.10.attn.c_attn.weight\n",
      "_backbone.h.10.attn.c_attn.bias\n",
      "_backbone.h.10.attn.c_proj.weight\n",
      "_backbone.h.10.attn.c_proj.bias\n",
      "_backbone.h.10.ln_2.weight\n",
      "_backbone.h.10.ln_2.bias\n",
      "_backbone.h.10.mlp.c_fc.weight\n",
      "_backbone.h.10.mlp.c_fc.bias\n",
      "_backbone.h.10.mlp.c_proj.weight\n",
      "_backbone.h.10.mlp.c_proj.bias\n",
      "_backbone.h.11.ln_1.weight\n",
      "_backbone.h.11.ln_1.bias\n",
      "_backbone.h.11.attn.bias\n",
      "_backbone.h.11.attn.masked_bias\n",
      "_backbone.h.11.attn.c_attn.weight\n",
      "_backbone.h.11.attn.c_attn.bias\n",
      "_backbone.h.11.attn.c_proj.weight\n",
      "_backbone.h.11.attn.c_proj.bias\n",
      "_backbone.h.11.ln_2.weight\n",
      "_backbone.h.11.ln_2.bias\n",
      "_backbone.h.11.mlp.c_fc.weight\n",
      "_backbone.h.11.mlp.c_fc.bias\n",
      "_backbone.h.11.mlp.c_proj.weight\n",
      "_backbone.h.11.mlp.c_proj.bias\n",
      "_backbone.ln_f.weight\n",
      "_backbone.ln_f.bias\n",
      "_read_out.weight\n",
      "_read_out.bias\n"
     ]
    }
   ],
   "source": [
    "original_state_path = os.path.join(run_path, \"state.pt\")\n",
    "original_state = torch.load(original_state_path, map_location='cpu')[\"model_state_dict\"]\n",
    "\n",
    "\n",
    "# elements are the keys to this dict of weights\n",
    "for element in original_state:\n",
    "    print(element)\n",
    "\n",
    "\n",
    "#Output just for reference of what we have in original gpt"
   ]
  },
  {
   "cell_type": "markdown",
   "id": "c771f2d7-827d-4e94-90d4-9a507e94dd3d",
   "metadata": {},
   "source": [
    "Visualize some original model shapes"
   ]
  },
  {
   "cell_type": "code",
   "execution_count": 11,
   "id": "58fca753-4d55-4c54-83a7-cb3b6d5f2786",
   "metadata": {},
   "outputs": [
    {
     "name": "stdout",
     "output_type": "stream",
     "text": [
      "torch.Size([50257, 256]) torch.Size([256, 20]) torch.Size([256]) torch.Size([1, 256]) torch.Size([1])\n"
     ]
    }
   ],
   "source": [
    "print(original_state['_backbone.wte.weight'].shape,\n",
    "      original_state['_read_in.weight'].shape,\n",
    "      original_state['_read_in.bias'].shape,\n",
    "      original_state['_read_out.weight'].shape,\n",
    "      original_state['_read_out.bias'].shape\n",
    "     )"
   ]
  },
  {
   "cell_type": "code",
   "execution_count": 12,
   "id": "da6ba2eb-369f-4044-a5bb-4cab4f3971f7",
   "metadata": {},
   "outputs": [
    {
     "data": {
      "text/plain": [
       "torch.Size([202, 256])"
      ]
     },
     "execution_count": 12,
     "metadata": {},
     "output_type": "execute_result"
    }
   ],
   "source": [
    "original_state['_backbone.wpe.weight'].shape"
   ]
  },
  {
   "cell_type": "code",
   "execution_count": 13,
   "id": "5a238547-51bb-4c18-b714-bbf4ad542cea",
   "metadata": {},
   "outputs": [
    {
     "data": {
      "text/plain": [
       "torch.Size([50257, 256])"
      ]
     },
     "execution_count": 13,
     "metadata": {},
     "output_type": "execute_result"
    }
   ],
   "source": [
    "original_state['_backbone.wte.weight'].shape"
   ]
  },
  {
   "cell_type": "markdown",
   "id": "8042e6a6-a78b-406b-a590-44673517ea99",
   "metadata": {},
   "source": [
    "## Load converted parameters (state dict) into HookedTransformer"
   ]
  },
  {
   "cell_type": "code",
   "execution_count": 14,
   "id": "7047b7a3-8393-4683-a934-272790e92f87",
   "metadata": {},
   "outputs": [
    {
     "name": "stderr",
     "output_type": "stream",
     "text": [
      "WARNING:root:Missing key for a weight matrix in pretrained, filled in with an empty tensor: unembed.W_U\n"
     ]
    }
   ],
   "source": [
    "toy_model.load_and_process_state_dict(converted_state_dict)"
   ]
  },
  {
   "cell_type": "code",
   "execution_count": 15,
   "id": "5d516e7c-f024-4183-8600-64032bcb373a",
   "metadata": {},
   "outputs": [
    {
     "data": {
      "text/plain": [
       "HookedTransformer(\n",
       "  (embed): Embed()\n",
       "  (hook_embed): HookPoint()\n",
       "  (pos_embed): PosEmbed()\n",
       "  (hook_pos_embed): HookPoint()\n",
       "  (blocks): ModuleList(\n",
       "    (0-11): 12 x TransformerBlock(\n",
       "      (ln1): LayerNorm(\n",
       "        (hook_scale): HookPoint()\n",
       "        (hook_normalized): HookPoint()\n",
       "      )\n",
       "      (ln2): LayerNorm(\n",
       "        (hook_scale): HookPoint()\n",
       "        (hook_normalized): HookPoint()\n",
       "      )\n",
       "      (attn): Attention(\n",
       "        (hook_k): HookPoint()\n",
       "        (hook_q): HookPoint()\n",
       "        (hook_v): HookPoint()\n",
       "        (hook_z): HookPoint()\n",
       "        (hook_attn_scores): HookPoint()\n",
       "        (hook_pattern): HookPoint()\n",
       "        (hook_result): HookPoint()\n",
       "      )\n",
       "      (mlp): MLP(\n",
       "        (hook_pre): HookPoint()\n",
       "        (hook_post): HookPoint()\n",
       "      )\n",
       "      (hook_attn_in): HookPoint()\n",
       "      (hook_q_input): HookPoint()\n",
       "      (hook_k_input): HookPoint()\n",
       "      (hook_v_input): HookPoint()\n",
       "      (hook_mlp_in): HookPoint()\n",
       "      (hook_attn_out): HookPoint()\n",
       "      (hook_mlp_out): HookPoint()\n",
       "      (hook_resid_pre): HookPoint()\n",
       "      (hook_resid_mid): HookPoint()\n",
       "      (hook_resid_post): HookPoint()\n",
       "    )\n",
       "  )\n",
       "  (ln_final): LayerNorm(\n",
       "    (hook_scale): HookPoint()\n",
       "    (hook_normalized): HookPoint()\n",
       "  )\n",
       "  (unembed): Unembed()\n",
       ")"
      ]
     },
     "execution_count": 15,
     "metadata": {},
     "output_type": "execute_result"
    }
   ],
   "source": [
    "toy_model"
   ]
  },
  {
   "cell_type": "code",
   "execution_count": 16,
   "id": "e0864415-0adc-4dfb-b2c4-7b84e58fd3ff",
   "metadata": {},
   "outputs": [
    {
     "data": {
      "text/plain": [
       "torch.Size([50257, 256])"
      ]
     },
     "execution_count": 16,
     "metadata": {},
     "output_type": "execute_result"
    }
   ],
   "source": [
    "toy_model.W_E.shape"
   ]
  },
  {
   "cell_type": "markdown",
   "id": "77596003-c53c-4a40-a1b3-f4e8e062da3a",
   "metadata": {},
   "source": [
    "### Reassign unembed module"
   ]
  },
  {
   "cell_type": "markdown",
   "id": "3e6e2b5c-e6b6-4e35-93bf-1e82ba7a15c6",
   "metadata": {},
   "source": [
    "What happens here?\n",
    "\n",
    "original weight_in: (256, 20)\n",
    "original bias in: (256)\n",
    "\n",
    "original embedder: (50257, 256)\n",
    "\n",
    "original weight_out: (1, 256) \n",
    "original bias_out: (1)\n",
    "\n",
    "We have an unembedder at (256, 50257), but we need matrix from 256 to 1 and then bias"
   ]
  },
  {
   "cell_type": "code",
   "execution_count": 17,
   "id": "c26be03c-a8f6-452a-867b-1ab9f6205939",
   "metadata": {},
   "outputs": [],
   "source": [
    "new_unembed = nn.Linear(toy_config.d_model, 1)\n",
    "new_unembed.weight = torch.nn.Parameter(original_state['_read_out.weight'])\n",
    "\n",
    "# Assign biases\n",
    "# Your biases tensor should have the shape [out_features]\n",
    "new_unembed.bias = torch.nn.Parameter(original_state['_read_out.bias'])"
   ]
  },
  {
   "cell_type": "code",
   "execution_count": 18,
   "id": "948b0b14-7e34-4211-9ce1-3decaef53f93",
   "metadata": {},
   "outputs": [],
   "source": [
    "toy_model.unembed = new_unembed"
   ]
  },
  {
   "cell_type": "markdown",
   "id": "6ae361b0-ba42-42ef-9e66-a37b86828c52",
   "metadata": {},
   "source": [
    "To add intial layer will have to modify the function that generates the data since I can't redefine HookedTransformer"
   ]
  },
  {
   "cell_type": "markdown",
   "id": "91b81467-703c-4a7e-816c-5b508e5be594",
   "metadata": {},
   "source": [
    "### Original module bypasses embds with inputs_embeds, but HookedTransformer does not have that option. We instead replace the embed layer with an inoffensive feedforward layer"
   ]
  },
  {
   "cell_type": "code",
   "execution_count": 19,
   "id": "f9f0a6ff-c458-40ef-ad78-7f9057417a74",
   "metadata": {},
   "outputs": [],
   "source": [
    "class PassThroughEmbed(nn.Module):\n",
    "    def __init__(self, cfg=None):\n",
    "        super().__init__()\n",
    "        # No parameters needed, but constructor accepts cfg for compatibility\n",
    "\n",
    "    def forward(self, tokens):\n",
    "        # Directly return the input without any modifications\n",
    "        return tokens\n",
    "\n",
    "pass_through_embed = PassThroughEmbed(cfg=toy_config)\n",
    "\n",
    "# Replace the model's embed module with pass_through_embed\n",
    "toy_model.embed = pass_through_embed"
   ]
  },
  {
   "cell_type": "markdown",
   "id": "d869cf80-3b5a-4565-9805-fa0e3cdc4ba2",
   "metadata": {},
   "source": [
    "## Use the model"
   ]
  },
  {
   "cell_type": "code",
   "execution_count": 21,
   "id": "03523b06",
   "metadata": {},
   "outputs": [],
   "source": [
    "# Load data\n",
    "\n",
    "# model, conf = get_model_from_run(run_path)\n",
    "\n",
    "n_dims = conf.model.n_dims\n",
    "batch_size = conf.training.batch_size\n",
    "\n",
    "data_sampler = get_data_sampler(conf.training.data, n_dims)\n",
    "task_sampler = get_task_sampler(\n",
    "    conf.training.task,\n",
    "    n_dims,\n",
    "    batch_size,\n",
    "    **conf.training.task_kwargs\n",
    ")"
   ]
  },
  {
   "cell_type": "code",
   "execution_count": 22,
   "id": "1d9da7c3",
   "metadata": {},
   "outputs": [],
   "source": [
    "task = task_sampler()\n",
    "xs = data_sampler.sample_xs(b_size=batch_size, n_points=conf.training.curriculum.points.end) # should be n_points=conf.training.curriculum.points.end, but has been hacked to work for the max_len of 101 (202)\n",
    "ys = task.evaluate(xs)"
   ]
  },
  {
   "cell_type": "code",
   "execution_count": 23,
   "id": "a51b6453-5d81-45de-a587-9973700fb06d",
   "metadata": {},
   "outputs": [
    {
     "data": {
      "text/plain": [
       "torch.Size([64, 41, 20])"
      ]
     },
     "execution_count": 23,
     "metadata": {},
     "output_type": "execute_result"
    }
   ],
   "source": [
    "xs.shape"
   ]
  },
  {
   "cell_type": "code",
   "execution_count": 24,
   "id": "d3c4c527-6663-485b-aeac-0f8d0943d41a",
   "metadata": {},
   "outputs": [
    {
     "data": {
      "text/plain": [
       "torch.Size([64, 41])"
      ]
     },
     "execution_count": 24,
     "metadata": {},
     "output_type": "execute_result"
    }
   ],
   "source": [
    "ys.shape"
   ]
  },
  {
   "cell_type": "code",
   "execution_count": 82,
   "id": "cb69ddda",
   "metadata": {},
   "outputs": [],
   "source": [
    "# the original model first merges the sequences in z, which we do here (z can have all but the last y since it's causal and intermediate ys are for icl and later icl lenght eval\n",
    "\n",
    "read_in_weight = original_state['_read_in.weight']\n",
    "read_in_bias = original_state['_read_in.bias']\n",
    "\n",
    "batch, n_ctx, d_xs = xs.shape\n",
    "\n",
    "ys_wide = torch.cat(\n",
    "    (\n",
    "        ys.view(batch, n_ctx, 1),\n",
    "        torch.zeros(batch, n_ctx, d_xs - 1, device=ys.device),\n",
    "    ),\n",
    "    axis=2,\n",
    ")\n",
    "my_zs = torch.stack((xs, ys_wide), dim=2)\n",
    "my_zs = my_zs.view(batch, 2 * n_ctx, d_xs)\n",
    "\n",
    "# apply the read_in transformation\n",
    "transformed_zs = einsum(\"batch n_ctx d_xs, d_model d_xs -> batch n_ctx d_model\", my_zs, read_in_weight) + read_in_bias\n",
    "\n",
    "# apply padding\n",
    "max_len = toy_config.n_ctx\n",
    "\n",
    "current_len = transformed_zs.shape[1]\n",
    "\n",
    "pad_len = max(max_len - current_len, 0)\n",
    "\n",
    "# Apply padding to the right of the second dimension\n",
    "# The padding order in F.pad is (left, right, top, bottom) for 4D input, but here it's the equivalent for 3D\n",
    "padded_transformed_zs = F.pad(transformed_zs, (0, 0, 0, pad_len), \"constant\", 0)"
   ]
  },
  {
   "cell_type": "code",
   "execution_count": 86,
   "id": "4d8a1c0b-5bce-4de5-903e-133972245b42",
   "metadata": {},
   "outputs": [
    {
     "data": {
      "text/plain": [
       "torch.Size([64, 202, 256])"
      ]
     },
     "execution_count": 86,
     "metadata": {},
     "output_type": "execute_result"
    }
   ],
   "source": [
    "padded_transformed_zs.shape"
   ]
  },
  {
   "cell_type": "code",
   "execution_count": 87,
   "id": "96152b95-9b84-4d95-8a2a-58f4d20a2504",
   "metadata": {},
   "outputs": [],
   "source": [
    "with torch.no_grad():\n",
    "    my_pred = toy_model(padded_transformed_zs)[:, ::2, 0][:, torch.arange(ys.shape[1])] # this last transformation before returning is in the original and I assume only selects the predictions for ys"
   ]
  },
  {
   "cell_type": "code",
   "execution_count": 63,
   "id": "b7cb8b8f-3550-47f0-9237-261de887f741",
   "metadata": {},
   "outputs": [
    {
     "data": {
      "text/plain": [
       "torch.Size([64, 82, 256])"
      ]
     },
     "execution_count": 63,
     "metadata": {},
     "output_type": "execute_result"
    }
   ],
   "source": [
    "transformed_zs.shape"
   ]
  },
  {
   "cell_type": "code",
   "execution_count": 77,
   "id": "56eaf433-69fd-428f-9ffb-dd0491023be6",
   "metadata": {},
   "outputs": [],
   "source": [
    "original_gpt2_pred = model._backbone(inputs_embeds=transformed_zs).last_hidden_state"
   ]
  },
  {
   "cell_type": "code",
   "execution_count": 78,
   "id": "0a8265d3-e863-4cec-b2ed-acc322e761b3",
   "metadata": {},
   "outputs": [],
   "source": [
    "original_final_preds = model._read_out(original_gpt2_pred)"
   ]
  },
  {
   "cell_type": "code",
   "execution_count": 79,
   "id": "1d6e0080-558e-4d36-ab7d-24725ea88ea1",
   "metadata": {},
   "outputs": [
    {
     "data": {
      "text/plain": [
       "torch.Size([64, 82, 1])"
      ]
     },
     "execution_count": 79,
     "metadata": {},
     "output_type": "execute_result"
    }
   ],
   "source": [
    "original_final_preds.shape"
   ]
  },
  {
   "cell_type": "code",
   "execution_count": 65,
   "id": "501cd782-dc1b-4e06-bf6a-79d5eaae05cb",
   "metadata": {},
   "outputs": [
    {
     "data": {
      "text/plain": [
       "Embedding(202, 256)"
      ]
     },
     "execution_count": 65,
     "metadata": {},
     "output_type": "execute_result"
    }
   ],
   "source": [
    "model._backbone.wpe"
   ]
  },
  {
   "cell_type": "code",
   "execution_count": 64,
   "id": "ebc0d9d8-336a-404b-99e9-8ca6da458fd0",
   "metadata": {},
   "outputs": [
    {
     "data": {
      "text/plain": [
       "GPT2Model(\n",
       "  (wte): Embedding(50257, 256)\n",
       "  (wpe): Embedding(202, 256)\n",
       "  (drop): Dropout(p=0.0, inplace=False)\n",
       "  (h): ModuleList(\n",
       "    (0-11): 12 x GPT2Block(\n",
       "      (ln_1): LayerNorm((256,), eps=1e-05, elementwise_affine=True)\n",
       "      (attn): GPT2Attention(\n",
       "        (c_attn): Conv1D()\n",
       "        (c_proj): Conv1D()\n",
       "        (attn_dropout): Dropout(p=0.0, inplace=False)\n",
       "        (resid_dropout): Dropout(p=0.0, inplace=False)\n",
       "      )\n",
       "      (ln_2): LayerNorm((256,), eps=1e-05, elementwise_affine=True)\n",
       "      (mlp): GPT2MLP(\n",
       "        (c_fc): Conv1D()\n",
       "        (c_proj): Conv1D()\n",
       "        (act): NewGELUActivation()\n",
       "        (dropout): Dropout(p=0.0, inplace=False)\n",
       "      )\n",
       "    )\n",
       "  )\n",
       "  (ln_f): LayerNorm((256,), eps=1e-05, elementwise_affine=True)\n",
       ")"
      ]
     },
     "execution_count": 64,
     "metadata": {},
     "output_type": "execute_result"
    }
   ],
   "source": [
    "model._backbone"
   ]
  },
  {
   "cell_type": "code",
   "execution_count": 60,
   "id": "52a94687-b867-4d63-812b-944b108959a2",
   "metadata": {},
   "outputs": [
    {
     "ename": "NameError",
     "evalue": "name 'pred' is not defined",
     "output_type": "error",
     "traceback": [
      "\u001b[0;31m---------------------------------------------------------------------------\u001b[0m",
      "\u001b[0;31mNameError\u001b[0m                                 Traceback (most recent call last)",
      "Cell \u001b[0;32mIn[60], line 1\u001b[0m\n\u001b[0;32m----> 1\u001b[0m \u001b[43mpred\u001b[49m\u001b[38;5;241m.\u001b[39mshape\n",
      "\u001b[0;31mNameError\u001b[0m: name 'pred' is not defined"
     ]
    }
   ],
   "source": [
    "pred.shape"
   ]
  },
  {
   "cell_type": "code",
   "execution_count": 127,
   "id": "dbf3685e-c7af-4a2e-8f6d-1056c3ca320a",
   "metadata": {},
   "outputs": [],
   "source": [
    "final_pred = pred[:, ::2, 0][:, torch.arange(ys.shape[1])]"
   ]
  },
  {
   "cell_type": "code",
   "execution_count": 128,
   "id": "ad62e552-809a-4867-8ebf-e5aa5a372b20",
   "metadata": {},
   "outputs": [
    {
     "data": {
      "text/plain": [
       "torch.Size([64, 101])"
      ]
     },
     "execution_count": 128,
     "metadata": {},
     "output_type": "execute_result"
    }
   ],
   "source": [
    "final_pred.shape"
   ]
  },
  {
   "cell_type": "code",
   "execution_count": 88,
   "id": "2aa97fa5",
   "metadata": {},
   "outputs": [
    {
     "data": {
      "image/png": "[encoded data removed]",
      "text/plain": [
       "<Figure size 640x480 with 1 Axes>"
      ]
     },
     "metadata": {},
     "output_type": "display_data"
    }
   ],
   "source": [
    "metric = task.get_metric()\n",
    "loss = metric(my_pred, ys).numpy()\n",
    "\n",
    "sparsity = conf.training.task_kwargs.sparsity if \"sparsity\" in conf.training.task_kwargs else None\n",
    "baseline = {\n",
    "    \"linear_regression\": n_dims,\n",
    "}[conf.training.task]\n",
    "\n",
    "plt.plot(loss.mean(axis=0), lw=2, label=\"Transformer\")\n",
    "plt.axhline(baseline, ls=\"--\", color=\"gray\", label=\"zero estimator\")\n",
    "plt.xlabel(\"# in-context examples\")\n",
    "plt.ylabel(\"squared error\")\n",
    "plt.legend()\n",
    "plt.show()"
   ]
  },
  {
   "cell_type": "markdown",
   "id": "021f118e",
   "metadata": {},
   "source": [
    "### now for reference, the original model performance"
   ]
  },
  {
   "cell_type": "code",
   "execution_count": 56,
   "id": "78a3b15f-37ea-4e8f-80ad-fcc4a85352cb",
   "metadata": {},
   "outputs": [],
   "source": [
    "with torch.no_grad():\n",
    "    original_pred = model(xs, ys)"
   ]
  },
  {
   "cell_type": "code",
   "execution_count": 57,
   "id": "192c1578-c4c6-4806-8c23-b0896f416aad",
   "metadata": {},
   "outputs": [
    {
     "data": {
      "text/plain": [
       "torch.Size([64, 41])"
      ]
     },
     "execution_count": 57,
     "metadata": {},
     "output_type": "execute_result"
    }
   ],
   "source": [
    "original_pred.shape"
   ]
  },
  {
   "cell_type": "code",
   "execution_count": 58,
   "id": "c67b7925-5f8b-4234-8003-17175213066b",
   "metadata": {},
   "outputs": [
    {
     "data": {
      "image/png": "[encoded data removed]",
      "text/plain": [
       "<Figure size 640x480 with 1 Axes>"
      ]
     },
     "metadata": {},
     "output_type": "display_data"
    }
   ],
   "source": [
    "metric = task.get_metric()\n",
    "loss = metric(original_pred, ys).numpy()\n",
    "\n",
    "sparsity = conf.training.task_kwargs.sparsity if \"sparsity\" in conf.training.task_kwargs else None\n",
    "baseline = {\n",
    "    \"linear_regression\": n_dims,\n",
    "    \"sparse_linear_regression\": sparsity,\n",
    "    \"relu_2nn_regression\": n_dims,\n",
    "    \"decision_tree\": 1,\n",
    "}[conf.training.task]\n",
    "\n",
    "plt.plot(loss.mean(axis=0), lw=2, label=\"Transformer\")\n",
    "plt.axhline(baseline, ls=\"--\", color=\"gray\", label=\"zero estimator\")\n",
    "plt.xlabel(\"# in-context examples\")\n",
    "plt.ylabel(\"squared error\")\n",
    "plt.legend()\n",
    "plt.show()"
   ]
  },
  {
   "cell_type": "raw",
   "id": "ca24e706-75e1-4d3b-b32c-88c21f52d723",
   "metadata": {},
   "source": [
    "def get_model(cfg, device=\"cpu\"):\n",
    "    config = HookedTransformerConfig(\n",
    "        d_model = cfg.model.n_embd,\n",
    "        d_head = cfg.model.n_dims,\n",
    "        n_layers = cfg.model.n_layer,\n",
    "        n_heads = cfg.model.n_head,\n",
    "        n_ctx = cfg.model.n_positions,\n",
    "        act_fn = 'relu'\n",
    "    )\n",
    "    tl_model = HookedTransformer.__init__(config)\n",
    "    tl_model = tl_model.to(device)\n",
    "    tl_model.set_use_attn_result(True)\n",
    "    tl_model.set_use_split_qkv_input(True)\n",
    "    if \"use_hook_mlp_in\" in tl_model.cfg.to_dict():\n",
    "        tl_model.set_use_hook_mlp_in(True)\n",
    "    return tl_model"
   ]
  }
 ],
 "metadata": {
  "kernelspec": {
   "display_name": "Python 3",
   "language": "python",
   "name": "python3"
  },
  "language_info": {
   "codemirror_mode": {
    "name": "ipython",
    "version": 3
   },
   "file_extension": ".py",
   "mimetype": "text/x-python",
   "name": "python",
   "nbconvert_exporter": "python",
   "pygments_lexer": "ipython3",
   "version": "3.10.13"
  },
  "vscode": {
   "interpreter": {
    "hash": "ca8b0aeffb2b7a98f29ba379058093df1fc88a600669642dc79207c759528fb7"
   }
  }
 },
 "nbformat": 4,
 "nbformat_minor": 5
}
