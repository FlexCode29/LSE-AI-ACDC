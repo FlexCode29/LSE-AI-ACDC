{
 "cells": [
  {
   "cell_type": "code",
   "execution_count": 9,
   "metadata": {},
   "outputs": [
    {
     "name": "stdout",
     "output_type": "stream",
     "text": [
      "Requirement already satisfied: Munch in /Users/marcomolinari/.pyenv/versions/3.10.13/lib/python3.10/site-packages (4.0.0)\n",
      "\n",
      "\u001b[1m[\u001b[0m\u001b[34;49mnotice\u001b[0m\u001b[1;39;49m]\u001b[0m\u001b[39;49m A new release of pip is available: \u001b[0m\u001b[31;49m23.0.1\u001b[0m\u001b[39;49m -> \u001b[0m\u001b[32;49m24.0\u001b[0m\n",
      "\u001b[1m[\u001b[0m\u001b[34;49mnotice\u001b[0m\u001b[1;39;49m]\u001b[0m\u001b[39;49m To update, run: \u001b[0m\u001b[32;49mpip install --upgrade pip\u001b[0m\n",
      "Collecting seaborn\n",
      "  Downloading seaborn-0.13.2-py3-none-any.whl (294 kB)\n",
      "\u001b[2K     \u001b[90m━━━━━━━━━━━━━━━━━━━━━━━━━━━━━━━━━━━━━━\u001b[0m \u001b[32m294.9/294.9 kB\u001b[0m \u001b[31m10.4 MB/s\u001b[0m eta \u001b[36m0:00:00\u001b[0m\n",
      "\u001b[?25hRequirement already satisfied: numpy!=1.24.0,>=1.20 in /Users/marcomolinari/.pyenv/versions/3.10.13/lib/python3.10/site-packages (from seaborn) (1.26.4)\n",
      "Requirement already satisfied: pandas>=1.2 in /Users/marcomolinari/.pyenv/versions/3.10.13/lib/python3.10/site-packages (from seaborn) (2.2.0)\n",
      "Requirement already satisfied: matplotlib!=3.6.1,>=3.4 in /Users/marcomolinari/.pyenv/versions/3.10.13/lib/python3.10/site-packages (from seaborn) (3.8.3)\n",
      "Requirement already satisfied: python-dateutil>=2.7 in /Users/marcomolinari/.pyenv/versions/3.10.13/lib/python3.10/site-packages (from matplotlib!=3.6.1,>=3.4->seaborn) (2.8.2)\n",
      "Requirement already satisfied: kiwisolver>=1.3.1 in /Users/marcomolinari/.pyenv/versions/3.10.13/lib/python3.10/site-packages (from matplotlib!=3.6.1,>=3.4->seaborn) (1.4.5)\n",
      "Requirement already satisfied: cycler>=0.10 in /Users/marcomolinari/.pyenv/versions/3.10.13/lib/python3.10/site-packages (from matplotlib!=3.6.1,>=3.4->seaborn) (0.12.1)\n",
      "Requirement already satisfied: pillow>=8 in /Users/marcomolinari/.pyenv/versions/3.10.13/lib/python3.10/site-packages (from matplotlib!=3.6.1,>=3.4->seaborn) (10.2.0)\n",
      "Requirement already satisfied: packaging>=20.0 in /Users/marcomolinari/.pyenv/versions/3.10.13/lib/python3.10/site-packages (from matplotlib!=3.6.1,>=3.4->seaborn) (23.2)\n",
      "Requirement already satisfied: pyparsing>=2.3.1 in /Users/marcomolinari/.pyenv/versions/3.10.13/lib/python3.10/site-packages (from matplotlib!=3.6.1,>=3.4->seaborn) (3.1.1)\n",
      "Requirement already satisfied: contourpy>=1.0.1 in /Users/marcomolinari/.pyenv/versions/3.10.13/lib/python3.10/site-packages (from matplotlib!=3.6.1,>=3.4->seaborn) (1.2.0)\n",
      "Requirement already satisfied: fonttools>=4.22.0 in /Users/marcomolinari/.pyenv/versions/3.10.13/lib/python3.10/site-packages (from matplotlib!=3.6.1,>=3.4->seaborn) (4.49.0)\n",
      "Requirement already satisfied: tzdata>=2022.7 in /Users/marcomolinari/.pyenv/versions/3.10.13/lib/python3.10/site-packages (from pandas>=1.2->seaborn) (2024.1)\n",
      "Requirement already satisfied: pytz>=2020.1 in /Users/marcomolinari/.pyenv/versions/3.10.13/lib/python3.10/site-packages (from pandas>=1.2->seaborn) (2024.1)\n",
      "Requirement already satisfied: six>=1.5 in /Users/marcomolinari/.pyenv/versions/3.10.13/lib/python3.10/site-packages (from python-dateutil>=2.7->matplotlib!=3.6.1,>=3.4->seaborn) (1.16.0)\n",
      "Installing collected packages: seaborn\n",
      "Successfully installed seaborn-0.13.2\n",
      "\n",
      "\u001b[1m[\u001b[0m\u001b[34;49mnotice\u001b[0m\u001b[1;39;49m]\u001b[0m\u001b[39;49m A new release of pip is available: \u001b[0m\u001b[31;49m23.0.1\u001b[0m\u001b[39;49m -> \u001b[0m\u001b[32;49m24.0\u001b[0m\n",
      "\u001b[1m[\u001b[0m\u001b[34;49mnotice\u001b[0m\u001b[1;39;49m]\u001b[0m\u001b[39;49m To update, run: \u001b[0m\u001b[32;49mpip install --upgrade pip\u001b[0m\n"
     ]
    }
   ],
   "source": [
    "!pip install Munch\n",
    "!pip install seaborn"
   ]
  },
  {
   "cell_type": "code",
   "execution_count": 112,
   "metadata": {},
   "outputs": [
    {
     "name": "stdout",
     "output_type": "stream",
     "text": [
      "The autoreload extension is already loaded. To reload it, use:\n",
      "  %reload_ext autoreload\n"
     ]
    }
   ],
   "source": [
    "from collections import OrderedDict\n",
    "import re\n",
    "import os\n",
    "import sys\n",
    "\n",
    "import matplotlib.pyplot as plt\n",
    "import pandas as pd\n",
    "import seaborn as sns\n",
    "import yaml\n",
    "import torch\n",
    "from munch import Munch\n",
    "import torch.nn as nn\n",
    "import torch.nn.functional as F\n",
    "import einops\n",
    "from fancy_einsum import einsum\n",
    "from tqdm.notebook import tqdm\n",
    "from transformer_lens.HookedTransformer import HookedTransformer, HookedTransformerConfig\n",
    "\n",
    "sys.path.append('Automatic-Circuit-Discovery/acdc/icl/src') \n",
    "from samplers import get_data_sampler\n",
    "from tasks import get_task_sampler\n",
    "\n",
    "%matplotlib inline\n",
    "%load_ext autoreload\n",
    "%autoreload 2\n",
    "\n",
    "sns.set_theme('notebook', 'darkgrid')\n",
    "palette = sns.color_palette('colorblind')"
   ]
  },
  {
   "cell_type": "code",
   "execution_count": 113,
   "metadata": {},
   "outputs": [],
   "source": [
    "# Select Device:\n",
    "DEVICE = torch.device('cpu')"
   ]
  },
  {
   "attachments": {},
   "cell_type": "markdown",
   "metadata": {},
   "source": [
    "### Helper functions"
   ]
  },
  {
   "cell_type": "code",
   "execution_count": 114,
   "metadata": {},
   "outputs": [],
   "source": [
    "def get_model(path, device=\"cpu\"):\n",
    "    class PassThroughEmbed(nn.Module):\n",
    "        def __init__(self, cfg=None):\n",
    "            super().__init__()\n",
    "            # No parameters needed, but constructor accepts cfg for compatibility\n",
    "\n",
    "        def forward(self, tokens):\n",
    "            # Directly return the input without any modifications\n",
    "            return tokens\n",
    "\n",
    "    model = torch.load(path, map_location=DEVICE)\n",
    "    tl_model = model.to(device)\n",
    "    tl_model.set_use_attn_result(True)\n",
    "    tl_model.set_use_split_qkv_input(True)\n",
    "    if \"use_hook_mlp_in\" in tl_model.cfg.to_dict():\n",
    "        tl_model.set_use_hook_mlp_in(True)\n",
    "    return tl_model"
   ]
  },
  {
   "cell_type": "code",
   "execution_count": 115,
   "metadata": {},
   "outputs": [],
   "source": [
    "def validation_metric(predictions, labels, return_one_element, device):\n",
    "    predictions = predictions.to(device)\n",
    "\n",
    "    loss = (labels - predictions).square().numpy().mean(axis=0)[-5:].mean()\n",
    "    return loss\n"
   ]
  },
  {
   "cell_type": "code",
   "execution_count": 116,
   "metadata": {},
   "outputs": [],
   "source": [
    "def get_data(conf, read_in_weight, read_in_bias, max_len):\n",
    "    # generate random data (20d points on a gaussian)\n",
    "\n",
    "    n_dims = conf.model.n_dims\n",
    "    batch_size = conf.training.batch_size\n",
    "\n",
    "    data_sampler = get_data_sampler(conf.training.data, n_dims)\n",
    "    task_sampler = get_task_sampler(\n",
    "        conf.training.task,\n",
    "        n_dims,\n",
    "        batch_size,\n",
    "        **conf.training.task_kwargs\n",
    "    )\n",
    "    task = task_sampler()\n",
    "    xs = data_sampler.sample_xs(b_size=batch_size, n_points=conf.training.curriculum.points.end) # should be n_points=conf.training.curriculum.points.end, but has been hacked to work for the max_len of 101 (202)\n",
    "    ys = task.evaluate(xs)\n",
    "\n",
    "\n",
    "    # the original model first merges the sequences in z, which we do here (z can have all but the last y since it's causal and intermediate ys are for icl and later icl lenght eval\n",
    "\n",
    "    batch, n_ctx, d_xs = xs.shape\n",
    "\n",
    "    ys_wide = torch.cat(\n",
    "        (\n",
    "            ys.view(batch, n_ctx, 1),\n",
    "            torch.zeros(batch, n_ctx, d_xs - 1, device=ys.device),\n",
    "        ),\n",
    "        axis=2,\n",
    "    )\n",
    "    my_zs = torch.stack((xs, ys_wide), dim=2)\n",
    "    my_zs = my_zs.view(batch, 2 * n_ctx, d_xs)\n",
    "\n",
    "    # apply the read_in transformation\n",
    "    transformed_zs = einsum(\"batch n_ctx d_xs, d_model d_xs -> batch n_ctx d_model\", my_zs, read_in_weight) + read_in_bias\n",
    "\n",
    "    # apply padding\n",
    "\n",
    "    current_len = transformed_zs.shape[1]\n",
    "\n",
    "    pad_len = max(max_len - current_len, 0)\n",
    "\n",
    "    # Apply padding to the right of the second dimension\n",
    "    # The padding order in F.pad is (left, right, top, bottom) for 4D input, but here it's the equivalent for 3D\n",
    "    return F.pad(transformed_zs, (0, 0, 0, pad_len), \"constant\", 0), ys"
   ]
  },
  {
   "attachments": {},
   "cell_type": "markdown",
   "metadata": {},
   "source": [
    "## Load parameters of experiment and pretrained model (with embedding parameters)"
   ]
  },
  {
   "cell_type": "code",
   "execution_count": 117,
   "metadata": {},
   "outputs": [],
   "source": [
    "run_dir = \"models\"\n",
    "\n",
    "task = \"linear_regression\"\n",
    "\n",
    "run_id = \"pretrained\"  # if you train more models, replace with the run_id from the table above\n",
    "\n",
    "run_path = os.path.join(run_dir, task, run_id)\n",
    "\n",
    "config_path = os.path.join(run_path, \"config.yaml\")\n",
    "with open(config_path) as fp:  # we don't Quinfig it to avoid inherits\n",
    "    conf = Munch.fromDict(yaml.safe_load(fp))"
   ]
  },
  {
   "cell_type": "code",
   "execution_count": 118,
   "metadata": {},
   "outputs": [
    {
     "data": {
      "text/plain": [
       "Munch({'config': 'conf/linear_regression.yaml', 'inherit': ['base.yaml'], 'model': Munch({'family': 'gpt2', 'n_dims': 20, 'n_embd': 256, 'n_head': 8, 'n_layer': 12, 'n_positions': 101}), 'out_dir': '../models/linear_regression', 'test_run': False, 'training': Munch({'batch_size': 64, 'curriculum': Munch({'dims': Munch({'end': 20, 'inc': 1, 'interval': 2000, 'start': 5}), 'points': Munch({'end': 41, 'inc': 2, 'interval': 2000, 'start': 11})}), 'data': 'gaussian', 'keep_every_steps': 100000, 'learning_rate': 0.0001, 'num_tasks': None, 'resume_id': None, 'save_every_steps': 1000, 'task': 'linear_regression', 'task_kwargs': Munch({}), 'train_steps': 500001}), 'wandb': Munch({'entity': 'in-context', 'log_every_steps': 100, 'name': 'linear_regression_pretrained', 'notes': '', 'project': 'in-context-training'})})"
      ]
     },
     "execution_count": 118,
     "metadata": {},
     "output_type": "execute_result"
    }
   ],
   "source": [
    "conf"
   ]
  },
  {
   "cell_type": "code",
   "execution_count": 119,
   "metadata": {},
   "outputs": [
    {
     "name": "stdout",
     "output_type": "stream",
     "text": [
      "Moving model to device:  cpu\n"
     ]
    }
   ],
   "source": [
    "model = get_model('hooked_regressor.pt', DEVICE)\n",
    "read_in_weight = torch.load('read_in_weight.pt', map_location=DEVICE)\n",
    "read_in_bias = torch.load('read_in_bias.pt', map_location=DEVICE)"
   ]
  },
  {
   "cell_type": "code",
   "execution_count": 120,
   "metadata": {},
   "outputs": [],
   "source": [
    "def test_model(conf, read_in_weight, read_in_bias, max_len):\n",
    "    input, labels = get_data(conf, read_in_weight, read_in_bias, max_len)\n",
    "\n",
    "    with torch.no_grad():\n",
    "        my_pred = model(input)[:, ::2, 0][:, torch.arange(labels.shape[1])] # this last transformation before returning is in the original and I assume only selects the predictions for ys\n",
    "    \n",
    "    mse = validation_metric(my_pred, labels, True, DEVICE)\n",
    "\n",
    "    return mse"
   ]
  },
  {
   "cell_type": "code",
   "execution_count": 121,
   "metadata": {},
   "outputs": [
    {
     "data": {
      "text/plain": [
       "0.5408128"
      ]
     },
     "execution_count": 121,
     "metadata": {},
     "output_type": "execute_result"
    }
   ],
   "source": [
    "test_model(conf, read_in_weight, read_in_bias, model.cfg.n_ctx)"
   ]
  },
  {
   "attachments": {},
   "cell_type": "markdown",
   "metadata": {},
   "source": [
    "### Graph"
   ]
  },
  {
   "cell_type": "code",
   "execution_count": 77,
   "metadata": {},
   "outputs": [
    {
     "data": {
      "image/png": "[encoded data removed]",
      "text/plain": [
       "<Figure size 640x480 with 1 Axes>"
      ]
     },
     "metadata": {},
     "output_type": "display_data"
    }
   ],
   "source": [
    "def squared_error(ys_pred, ys):\n",
    "    return (ys - ys_pred).square()\n",
    "\n",
    "loss = squared_error(my_pred, labels).numpy()\n",
    "\n",
    "baseline = {\n",
    "    \"linear_regression\": conf.model.n_dims,\n",
    "}[conf.training.task]\n",
    "\n",
    "plt.plot(loss.mean(axis=0), lw=2, label=\"Transformer\")\n",
    "plt.axhline(baseline, ls=\"--\", color=\"gray\", label=\"zero estimator\")\n",
    "plt.xlabel(\"# in-context examples\")\n",
    "plt.ylabel(\"squared error\")\n",
    "plt.legend()\n",
    "plt.show()"
   ]
  },
  {
   "cell_type": "code",
   "execution_count": 78,
   "metadata": {},
   "outputs": [
    {
     "data": {
      "text/plain": [
       "0.75218976"
      ]
     },
     "execution_count": 78,
     "metadata": {},
     "output_type": "execute_result"
    }
   ],
   "source": [
    "loss.mean(axis=0)[-5:].mean()"
   ]
  }
 ],
 "metadata": {
  "kernelspec": {
   "display_name": "Python 3",
   "language": "python",
   "name": "python3"
  },
  "language_info": {
   "codemirror_mode": {
    "name": "ipython",
    "version": 3
   },
   "file_extension": ".py",
   "mimetype": "text/x-python",
   "name": "python",
   "nbconvert_exporter": "python",
   "pygments_lexer": "ipython3",
   "version": "3.10.13"
  },
  "orig_nbformat": 4,
  "vscode": {
   "interpreter": {
    "hash": "ca8b0aeffb2b7a98f29ba379058093df1fc88a600669642dc79207c759528fb7"
   }
  }
 },
 "nbformat": 4,
 "nbformat_minor": 2
}
